{
  "nbformat": 4,
  "nbformat_minor": 0,
  "metadata": {
    "colab": {
      "provenance": []
    },
    "kernelspec": {
      "name": "python3",
      "display_name": "Python 3"
    },
    "language_info": {
      "name": "python"
    }
  },
  "cells": [
    {
      "cell_type": "markdown",
      "source": [
        "Python program to solve the quadratic equation ax^2 + bx + c = 0"
      ],
      "metadata": {
        "id": "_jyKzMu7gMSA"
      }
    },
    {
      "cell_type": "code",
      "source": [
        "import math\n",
        "def equationroots (a, b, c):\n",
        "  #calculating discriminant\n",
        "  d = b*b - 4*a*c\n",
        "  sqrt_val = math.sqrt(abs(d))\n",
        "\n",
        "  #discriminant condition\n",
        "  if d>0:\n",
        "    print(\"Real and Different Roots\")\n",
        "    print((-b + sqrt_val)/(2*a))\n",
        "    print((-b - sqrt_val)/(2*a))\n",
        "  elif d==0:\n",
        "    print(\"Real and Equal Roots\")\n",
        "    print(-b/(2*a))\n",
        "  #discriminant<0\n",
        "  else:\n",
        "    print(\"Complex Roots\")\n",
        "    print(-b/(2*a), \" + i\", sqrt_val)\n",
        "    print(-b/(2*a), \" - i\", sqrt_val)\n",
        "\n",
        "#Driver Program\n",
        "a=5\n",
        "b=10\n",
        "c=15\n",
        "\n",
        "if a==0:\n",
        "  print(\"The entered equation is incorrect\")\n",
        "else:\n",
        "  equationroots(a, b, c)"
      ],
      "metadata": {
        "colab": {
          "base_uri": "https://localhost:8080/"
        },
        "id": "Kb4ttrwHgWag",
        "outputId": "d3acfcce-7bbd-4edb-d9a7-ef3203f8aecb"
      },
      "execution_count": 3,
      "outputs": [
        {
          "output_type": "stream",
          "name": "stdout",
          "text": [
            "Complex Roots\n",
            "-1.0  + i 14.142135623730951\n",
            "-1.0  - i 14.142135623730951\n"
          ]
        }
      ]
    }
  ]
}